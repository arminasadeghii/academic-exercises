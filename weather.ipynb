{
 "cells": [
  {
   "cell_type": "code",
   "execution_count": 6,
   "metadata": {},
   "outputs": [
    {
     "name": "stdout",
     "output_type": "stream",
     "text": [
      "http://api.openweathermap.org/data/2.5/weather?appid=976fd46c1e19f8c940ed226a25bcc545&q=tehran&units=metric\n"
     ]
    },
    {
     "data": {
      "text/plain": [
       "28.73"
      ]
     },
     "execution_count": 6,
     "metadata": {},
     "output_type": "execute_result"
    }
   ],
   "source": [
    "import requests , json\n",
    "api_key = \"976fd46c1e19f8c940ed226a25bcc545\"\n",
    "city_name = input(\" ENTER CITY NAME :\")\n",
    "base_url = \"http://api.openweathermap.org/data/2.5/weather?\"\n",
    "\n",
    "\n",
    "complete_url = base_url + \"appid=\" + api_key + \"&q=\" + city_name + \"&units=metric\"\n",
    "\n",
    "print(complete_url)\n",
    "\n",
    "response = requests.get(complete_url)\n",
    "\n",
    "x = response.json()\n",
    "x ['main']['temp']"
   ]
  }
 ],
 "metadata": {
  "kernelspec": {
   "display_name": "Python 3",
   "language": "python",
   "name": "python3"
  },
  "language_info": {
   "codemirror_mode": {
    "name": "ipython",
    "version": 3
   },
   "file_extension": ".py",
   "mimetype": "text/x-python",
   "name": "python",
   "nbconvert_exporter": "python",
   "pygments_lexer": "ipython3",
   "version": "3.10.7"
  }
 },
 "nbformat": 4,
 "nbformat_minor": 2
}
